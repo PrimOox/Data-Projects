{
 "cells": [
  {
   "cell_type": "markdown",
   "id": "a8ceadbb-8468-42a1-b09e-5e484bdae44b",
   "metadata": {},
   "source": [
    "# Amazon S3 Bucket Connection\n",
    "This recipe shows you how to connect to AWS S3 bucket. Using the Integrations tab, you can make this connection without exposing sensitive data; you can learn more about integrations [here](https://workspace-docs.datacamp.com/integrations/environment-variables).\n",
    "\n",
    "As an example, you can connect your workspace to a fictional online ticket sale dataset. The files for this dataset are stored in a S3 bucket that is hosted on a DataCamp server. The ER diagram of this sample database is shown in the appendix of this recipe. The right set of environment variables to connect to this sample database can be found in [this section](https://workspace-docs.datacamp.com/integrations/s3-bucket#sample-database-online-ticket-sales) of the documentation.\n",
    "\n",
    "Once you are familiar with this example, you can also connect to your own Amazon S3 bucket by inserting your own credentials as the environment variables."
   ]
  },
  {
   "cell_type": "code",
   "execution_count": 6,
   "id": "8959720a-1f73-4ad0-ae0b-12be425b3600",
   "metadata": {},
   "outputs": [],
   "source": [
    "# Import packages\n",
    "import os\n",
    "import io\n",
    "import boto3\n",
    "import pandas as pd\n"
   ]
  },
  {
   "cell_type": "code",
   "execution_count": 7,
   "id": "a1eb3e81-37ed-4365-8a83-93845d1e2e71",
   "metadata": {},
   "outputs": [],
   "source": [
    "os.environ[\"AWS_BUCKET_NAME\"] = \"datacamp-workspacedemo-workspacedemos3-prod\"\n",
    "DIR_NAME = \"workspacedemos3/\"\n",
    "s3 = boto3.resource('s3')\n",
    "# Load the bucket with specified name.\n",
    "bucket = s3.Bucket(os.environ[\"AWS_BUCKET_NAME\"])\n",
    "# The data will be loaded into a dictionary of pandas DataFrames\n",
    "dfs = {}\n",
    "# Each DataFrame will be accessible with a key (the filename without extension)\n",
    "for bucket_object in bucket.objects.filter(Prefix=DIR_NAME):\n",
    "    obj = bucket.Object(key=bucket_object.key)\n",
    "    data_string = io.BytesIO(obj.get()['Body'].read())\n",
    "    dfs[bucket_object.key[:-4].replace(DIR_NAME, \"\")] = pd.read_csv(data_string, encoding='utf8', sep=\"|\", index_col=0, header=None)"
   ]
  },
  {
   "cell_type": "code",
   "execution_count": 8,
   "id": "f7498bb3-165a-40ad-9f1d-28a79539dd10",
   "metadata": {},
   "outputs": [
    {
     "data": {
      "text/plain": [
       "['categories', 'dates', 'events', 'listings', 'sales', 'users', 'venues']"
      ]
     },
     "execution_count": 8,
     "metadata": {},
     "output_type": "execute_result"
    }
   ],
   "source": [
    "# Print out all available DataFrames. These are the same as the files in the S3 bucket\n",
    "list(dfs.keys())"
   ]
  },
  {
   "cell_type": "code",
   "execution_count": 9,
   "id": "bf67a325-f4f9-4de6-b9ff-10c69c7b5b12",
   "metadata": {},
   "outputs": [
    {
     "data": {
      "text/html": [
       "<div>\n",
       "<style scoped>\n",
       "    .dataframe tbody tr th:only-of-type {\n",
       "        vertical-align: middle;\n",
       "    }\n",
       "\n",
       "    .dataframe tbody tr th {\n",
       "        vertical-align: top;\n",
       "    }\n",
       "\n",
       "    .dataframe thead th {\n",
       "        text-align: right;\n",
       "    }\n",
       "</style>\n",
       "<table border=\"1\" class=\"dataframe\">\n",
       "  <thead>\n",
       "    <tr style=\"text-align: right;\">\n",
       "      <th></th>\n",
       "      <th>1</th>\n",
       "      <th>2</th>\n",
       "      <th>3</th>\n",
       "    </tr>\n",
       "    <tr>\n",
       "      <th>0</th>\n",
       "      <th></th>\n",
       "      <th></th>\n",
       "      <th></th>\n",
       "    </tr>\n",
       "  </thead>\n",
       "  <tbody>\n",
       "    <tr>\n",
       "      <th>1</th>\n",
       "      <td>Sports</td>\n",
       "      <td>MLB</td>\n",
       "      <td>Major League Baseball</td>\n",
       "    </tr>\n",
       "    <tr>\n",
       "      <th>2</th>\n",
       "      <td>Sports</td>\n",
       "      <td>NHL</td>\n",
       "      <td>National Hockey League</td>\n",
       "    </tr>\n",
       "    <tr>\n",
       "      <th>3</th>\n",
       "      <td>Sports</td>\n",
       "      <td>NFL</td>\n",
       "      <td>National Football League</td>\n",
       "    </tr>\n",
       "    <tr>\n",
       "      <th>4</th>\n",
       "      <td>Sports</td>\n",
       "      <td>NBA</td>\n",
       "      <td>National Basketball Association</td>\n",
       "    </tr>\n",
       "    <tr>\n",
       "      <th>5</th>\n",
       "      <td>Sports</td>\n",
       "      <td>MLS</td>\n",
       "      <td>Major League Soccer</td>\n",
       "    </tr>\n",
       "  </tbody>\n",
       "</table>\n",
       "</div>"
      ],
      "text/plain": [
       "        1    2                                3\n",
       "0                                              \n",
       "1  Sports  MLB            Major League Baseball\n",
       "2  Sports  NHL           National Hockey League\n",
       "3  Sports  NFL         National Football League\n",
       "4  Sports  NBA  National Basketball Association\n",
       "5  Sports  MLS              Major League Soccer"
      ]
     },
     "execution_count": 9,
     "metadata": {},
     "output_type": "execute_result"
    }
   ],
   "source": [
    "# Print out the head of a DataFrame as an example\n",
    "dfs['categories'].head()"
   ]
  },
  {
   "cell_type": "markdown",
   "id": "9be4b56a-770e-41ce-bb80-6c5ba1c3a5d3",
   "metadata": {},
   "source": [
    "## Appendix\n",
    "#### 1. ER diagram of online ticket sales database\n",
    "This ER diagram contains information about all the tables in the sample database, and shows how they relate to each other. ([database and ER diagram - source](https://docs.aws.amazon.com/redshift/latest/dg/c_sampledb.html))\n",
    "\n",
    "![ER diagram](tickitdb-er.png)\""
   ]
  }
 ],
 "metadata": {
  "colab": {
   "name": "Welcome to DataCamp Workspaces.ipynb",
   "provenance": []
  },
  "kernelspec": {
   "display_name": "Python 3 (ipykernel)",
   "language": "python",
   "name": "python3"
  },
  "language_info": {
   "codemirror_mode": {
    "name": "ipython",
    "version": 3
   },
   "file_extension": ".py",
   "mimetype": "text/x-python",
   "name": "python",
   "nbconvert_exporter": "python",
   "pygments_lexer": "ipython3",
   "version": "3.10.2"
  }
 },
 "nbformat": 4,
 "nbformat_minor": 5
}
